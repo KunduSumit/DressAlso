{
 "cells": [
  {
   "cell_type": "code",
   "execution_count": 1,
   "metadata": {},
   "outputs": [],
   "source": [
    "import pandas as pd\n",
    "import random"
   ]
  },
  {
   "cell_type": "code",
   "execution_count": 2,
   "metadata": {},
   "outputs": [
    {
     "data": {
      "text/html": [
       "<div>\n",
       "<style scoped>\n",
       "    .dataframe tbody tr th:only-of-type {\n",
       "        vertical-align: middle;\n",
       "    }\n",
       "\n",
       "    .dataframe tbody tr th {\n",
       "        vertical-align: top;\n",
       "    }\n",
       "\n",
       "    .dataframe thead th {\n",
       "        text-align: right;\n",
       "    }\n",
       "</style>\n",
       "<table border=\"1\" class=\"dataframe\">\n",
       "  <thead>\n",
       "    <tr style=\"text-align: right;\">\n",
       "      <th></th>\n",
       "      <th>raja</th>\n",
       "      <th>sundar</th>\n",
       "      <th>vasu</th>\n",
       "      <th>king</th>\n",
       "      <th>suri</th>\n",
       "      <th>palu</th>\n",
       "      <th>varun</th>\n",
       "      <th>vicky</th>\n",
       "      <th>john</th>\n",
       "      <th>charlie</th>\n",
       "    </tr>\n",
       "  </thead>\n",
       "  <tbody>\n",
       "    <tr>\n",
       "      <th>0</th>\n",
       "      <td>0.376357</td>\n",
       "      <td>0.702534</td>\n",
       "      <td>0.311814</td>\n",
       "      <td>0.963778</td>\n",
       "      <td>0.208542</td>\n",
       "      <td>0.083872</td>\n",
       "      <td>0.448679</td>\n",
       "      <td>0.484034</td>\n",
       "      <td>0.642761</td>\n",
       "      <td>0.626825</td>\n",
       "    </tr>\n",
       "    <tr>\n",
       "      <th>1</th>\n",
       "      <td>0.447164</td>\n",
       "      <td>0.754053</td>\n",
       "      <td>0.749996</td>\n",
       "      <td>0.051444</td>\n",
       "      <td>0.016361</td>\n",
       "      <td>0.216546</td>\n",
       "      <td>0.246007</td>\n",
       "      <td>0.066779</td>\n",
       "      <td>0.510165</td>\n",
       "      <td>0.116787</td>\n",
       "    </tr>\n",
       "    <tr>\n",
       "      <th>2</th>\n",
       "      <td>0.396404</td>\n",
       "      <td>0.585427</td>\n",
       "      <td>0.663311</td>\n",
       "      <td>0.727026</td>\n",
       "      <td>0.486101</td>\n",
       "      <td>0.736854</td>\n",
       "      <td>0.583944</td>\n",
       "      <td>0.603450</td>\n",
       "      <td>0.160894</td>\n",
       "      <td>0.626097</td>\n",
       "    </tr>\n",
       "    <tr>\n",
       "      <th>3</th>\n",
       "      <td>0.649010</td>\n",
       "      <td>0.383782</td>\n",
       "      <td>0.193784</td>\n",
       "      <td>0.896116</td>\n",
       "      <td>0.444572</td>\n",
       "      <td>0.771316</td>\n",
       "      <td>0.233433</td>\n",
       "      <td>0.597364</td>\n",
       "      <td>0.479605</td>\n",
       "      <td>0.884511</td>\n",
       "    </tr>\n",
       "    <tr>\n",
       "      <th>4</th>\n",
       "      <td>0.069782</td>\n",
       "      <td>0.317357</td>\n",
       "      <td>0.937635</td>\n",
       "      <td>0.741077</td>\n",
       "      <td>0.588012</td>\n",
       "      <td>0.997743</td>\n",
       "      <td>0.865145</td>\n",
       "      <td>0.408889</td>\n",
       "      <td>0.205029</td>\n",
       "      <td>0.635753</td>\n",
       "    </tr>\n",
       "  </tbody>\n",
       "</table>\n",
       "</div>"
      ],
      "text/plain": [
       "       raja    sundar      vasu      king      suri      palu     varun  \\\n",
       "0  0.376357  0.702534  0.311814  0.963778  0.208542  0.083872  0.448679   \n",
       "1  0.447164  0.754053  0.749996  0.051444  0.016361  0.216546  0.246007   \n",
       "2  0.396404  0.585427  0.663311  0.727026  0.486101  0.736854  0.583944   \n",
       "3  0.649010  0.383782  0.193784  0.896116  0.444572  0.771316  0.233433   \n",
       "4  0.069782  0.317357  0.937635  0.741077  0.588012  0.997743  0.865145   \n",
       "\n",
       "      vicky      john   charlie  \n",
       "0  0.484034  0.642761  0.626825  \n",
       "1  0.066779  0.510165  0.116787  \n",
       "2  0.603450  0.160894  0.626097  \n",
       "3  0.597364  0.479605  0.884511  \n",
       "4  0.408889  0.205029  0.635753  "
      ]
     },
     "execution_count": 2,
     "metadata": {},
     "output_type": "execute_result"
    }
   ],
   "source": [
    "df=pd.read_csv('FileName.csv') #Location of your CSV File\n",
    "df.head()"
   ]
  },
  {
   "cell_type": "code",
   "execution_count": 3,
   "metadata": {},
   "outputs": [],
   "source": [
    "data=df.round(2)"
   ]
  },
  {
   "cell_type": "code",
   "execution_count": 4,
   "metadata": {},
   "outputs": [],
   "source": [
    "#This function is used to make subspaces, SelectedFeature will contain the previous best subspace. \n",
    "def makeSubspaces(trainingData,selectedFeature):    \n",
    "    subspacesList=[]\n",
    "    if len(selectedFeature)==0:\n",
    "        for cols in trainingData.columns:\n",
    "            #'here we have included {} columns'.format(noOfFeature)\n",
    "            subspacesList.append(cols)\n",
    "    else:\n",
    "        #subspacesList=[[cols,item] for cols in trainingData.columns for item in selectedFeature]\n",
    "        for cols in trainingData.columns:\n",
    "            #'here we have included {} columns'.format(noOfFeature)\n",
    "            subspacesList.append([cols,selectedFeature])\n",
    "    return subspacesList"
   ]
  },
  {
   "cell_type": "code",
   "execution_count": 5,
   "metadata": {},
   "outputs": [],
   "source": [
    "#This function generates a random score.\n",
    "def calculateSubspaceScore(featureList):\n",
    "    ConstrainedScore = random.randint(0, 100)\n",
    "    DistanceScore = random.randint(0, 100)\n",
    "    FinalScore = ConstrainedScore + DistanceScore\n",
    "    return FinalScore"
   ]
  },
  {
   "cell_type": "code",
   "execution_count": 6,
   "metadata": {},
   "outputs": [],
   "source": [
    "#Append a feature with the score. Example: [Rajesh , 150]\n",
    "def scoreCalculate(ssList):\n",
    "    subspaceScoresList=[]\n",
    "    for feature in ssList:\n",
    "        FinalScore = calculateSubspaceScore(feature)\n",
    "        subspaceScoresList.append([feature,FinalScore])    \n",
    "    return subspaceScoresList"
   ]
  },
  {
   "cell_type": "code",
   "execution_count": 7,
   "metadata": {},
   "outputs": [],
   "source": [
    "#Traverses the list to get the best score(Max score)\n",
    "def max_by_score(sequence):\n",
    "    if not sequence:\n",
    "        raise ValueError('empty sequence')\n",
    "    maximum = sequence[0]\n",
    "    for item in sequence:\n",
    "        if item[1] > maximum[1]:\n",
    "            maximum = item\n",
    "    return maximum"
   ]
  },
  {
   "cell_type": "code",
   "execution_count": 8,
   "metadata": {},
   "outputs": [],
   "source": [
    "#This function is used to select the Max score or the highest score associated to the feature.\n",
    "\n",
    "def bestScore(ssScoresList):\n",
    "    return max_by_score(ssScoresList)"
   ]
  },
  {
   "cell_type": "code",
   "execution_count": 9,
   "metadata": {},
   "outputs": [],
   "source": [
    "#This function is used to convert any two Dimensional List to a single List.\n",
    "\n",
    "def ConvertList(temp_list,featre):\n",
    "    for ele in temp_list:\n",
    "        if type(ele) == list:\n",
    "            ConvertList(ele,featre)\n",
    "        else:\n",
    "            featre.append(ele)\n",
    "    return featre"
   ]
  },
  {
   "cell_type": "code",
   "execution_count": 14,
   "metadata": {},
   "outputs": [],
   "source": [
    "#This function is used to removed any duplicates in the list.\n",
    "\n",
    "def getUniqueItems(iterable):\n",
    "    seen = set()\n",
    "    result = []\n",
    "    for item in iterable:\n",
    "        if item not in seen:\n",
    "            seen.add(item)\n",
    "            result.append(item)\n",
    "    return result"
   ]
  },
  {
   "cell_type": "code",
   "execution_count": 11,
   "metadata": {},
   "outputs": [],
   "source": [
    "#This function iterates through the supspaces collects the best one and increases the cardinality every single time.\n",
    "#df = Data, feat_select = Selected best feature, previousBestScore = Previous best feature according to the random score generated\n",
    "#currentBestScore = Current best feature according to the random score genearted.\n",
    "\n",
    "def iter_subspace(df,feat_select,previousBestScore,currentBestScore): \n",
    "    while previousBestScore <= currentBestScore:\n",
    "        possible_sslist=makeSubspaces(df,feat_select)\n",
    "        score_sslist=scoreCalculate(possible_sslist)\n",
    "        featureset_score=bestScore(score_sslist)\n",
    "        features_for_nxt_iter=[item for item in df.columns if item not in featureset_score[0]]\n",
    "        if featureset_score[0] not in features_selected:\n",
    "            features_selected.append(featureset_score[0])\n",
    "            previousBestScore=currentBestScore\n",
    "            currentBestScore =featureset_score[1]\n",
    "        featu=[]\n",
    "        inter_results=ConvertList(features_selected,featu)\n",
    "        features_selected_final=getUniqueItems(featu)        \n",
    "        print('')\n",
    "        print(possible_sslist)\n",
    "        print('')\n",
    "        print(score_sslist)\n",
    "        print('')\n",
    "        print(featureset_score)\n",
    "        print(features_for_nxt_iter)\n",
    "        print('')\n",
    "        print(features_selected_final)\n",
    "        print(previousBestScore)\n",
    "        print(currentBestScore)\n",
    "        print('')\n",
    "        iter_subspace(df[features_for_nxt_iter],features_selected_final,previousBestScore,currentBestScore)\n",
    "        break"
   ]
  },
  {
   "cell_type": "code",
   "execution_count": 13,
   "metadata": {},
   "outputs": [
    {
     "name": "stdout",
     "output_type": "stream",
     "text": [
      "\n",
      "['raja', 'sundar', 'vasu', 'king', 'suri', 'palu', 'varun', 'vicky', 'john', 'charlie']\n",
      "\n",
      "[['raja', 46], ['sundar', 113], ['vasu', 151], ['king', 61], ['suri', 55], ['palu', 73], ['varun', 150], ['vicky', 58], ['john', 117], ['charlie', 158]]\n",
      "\n",
      "['charlie', 158]\n",
      "['raja', 'sundar', 'vasu', 'king', 'suri', 'palu', 'varun', 'vicky', 'john']\n",
      "\n",
      "['charlie']\n",
      "0\n",
      "158\n",
      "\n",
      "\n",
      "[['raja', ['charlie']], ['sundar', ['charlie']], ['vasu', ['charlie']], ['king', ['charlie']], ['suri', ['charlie']], ['palu', ['charlie']], ['varun', ['charlie']], ['vicky', ['charlie']], ['john', ['charlie']]]\n",
      "\n",
      "[[['raja', ['charlie']], 119], [['sundar', ['charlie']], 72], [['vasu', ['charlie']], 78], [['king', ['charlie']], 82], [['suri', ['charlie']], 185], [['palu', ['charlie']], 69], [['varun', ['charlie']], 81], [['vicky', ['charlie']], 73], [['john', ['charlie']], 135]]\n",
      "\n",
      "[['suri', ['charlie']], 185]\n",
      "['raja', 'sundar', 'vasu', 'king', 'palu', 'varun', 'vicky', 'john']\n",
      "\n",
      "['charlie', 'suri']\n",
      "158\n",
      "185\n",
      "\n",
      "\n",
      "[['raja', ['charlie', 'suri']], ['sundar', ['charlie', 'suri']], ['vasu', ['charlie', 'suri']], ['king', ['charlie', 'suri']], ['palu', ['charlie', 'suri']], ['varun', ['charlie', 'suri']], ['vicky', ['charlie', 'suri']], ['john', ['charlie', 'suri']]]\n",
      "\n",
      "[[['raja', ['charlie', 'suri']], 119], [['sundar', ['charlie', 'suri']], 73], [['vasu', ['charlie', 'suri']], 47], [['king', ['charlie', 'suri']], 147], [['palu', ['charlie', 'suri']], 108], [['varun', ['charlie', 'suri']], 70], [['vicky', ['charlie', 'suri']], 92], [['john', ['charlie', 'suri']], 85]]\n",
      "\n",
      "[['king', ['charlie', 'suri']], 147]\n",
      "['raja', 'sundar', 'vasu', 'palu', 'varun', 'vicky', 'john']\n",
      "\n",
      "['charlie', 'suri', 'king']\n",
      "185\n",
      "147\n",
      "\n"
     ]
    }
   ],
   "source": [
    "#The main function of the program.\n",
    "currentBestScore = 0\n",
    "previousBestScore = 0\n",
    "features_selected=[]\n",
    "iter_subspace(data,features_selected,previousBestScore,currentBestScore)"
   ]
  },
  {
   "cell_type": "code",
   "execution_count": null,
   "metadata": {},
   "outputs": [],
   "source": []
  }
 ],
 "metadata": {
  "kernelspec": {
   "display_name": "Python 3",
   "language": "python",
   "name": "python3"
  },
  "language_info": {
   "codemirror_mode": {
    "name": "ipython",
    "version": 3
   },
   "file_extension": ".py",
   "mimetype": "text/x-python",
   "name": "python",
   "nbconvert_exporter": "python",
   "pygments_lexer": "ipython3",
   "version": "3.6.5"
  }
 },
 "nbformat": 4,
 "nbformat_minor": 2
}
